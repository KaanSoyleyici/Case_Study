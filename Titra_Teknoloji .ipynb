{
  "nbformat": 4,
  "nbformat_minor": 0,
  "metadata": {
    "colab": {
      "provenance": []
    },
    "kernelspec": {
      "name": "python3",
      "display_name": "Python 3"
    },
    "language_info": {
      "name": "python"
    }
  },
  "cells": [
    {
      "cell_type": "markdown",
      "source": [
        "Importing Libraries\n"
      ],
      "metadata": {
        "id": "w8vugdzH3hj-"
      }
    },
    {
      "cell_type": "code",
      "source": [
        "import pandas as pd\n",
        "import numpy as np\n",
        "import random\n",
        "import matplotlib.pyplot as plt\n",
        "\n",
        "from sklearn.preprocessing import MinMaxScaler\n",
        "from yellowbrick.cluster import KElbowVisualizer\n",
        "from scipy.cluster.hierarchy import linkage\n",
        "from scipy.cluster.hierarchy import dendrogram\n",
        "from sklearn.preprocessing import StandardScaler"
      ],
      "metadata": {
        "id": "QkQhVEfk4PY9"
      },
      "execution_count": 257,
      "outputs": []
    },
    {
      "cell_type": "code",
      "source": [
        "pd.set_option('display.max_columns', None)\n",
        "pd.set_option('display.width', None)\n",
        "pd.set_option('display.max_rows', 20)\n",
        "pd.set_option('display.float_format', lambda x: '%.3f' % x)"
      ],
      "metadata": {
        "id": "Xni0GAhnAgBo"
      },
      "execution_count": 258,
      "outputs": []
    },
    {
      "cell_type": "markdown",
      "source": [
        "Some functions\n"
      ],
      "metadata": {
        "id": "TZGT5SdE5M_s"
      }
    },
    {
      "cell_type": "code",
      "source": [
        "def check_df(dataframe, head=5):\n",
        "    print(\"##################### Shape #####################\")\n",
        "    print(dataframe.shape)\n",
        "    print(\"##################### Types #####################\")\n",
        "    print(dataframe.dtypes)\n",
        "    print(\"##################### Head #####################\")\n",
        "    print(dataframe.head(head))\n",
        "    print(\"##################### Tail #####################\")\n",
        "    print(dataframe.tail(head))\n",
        "    print(\"##################### NA #####################\")\n",
        "    print(dataframe.isnull().sum())\n",
        "    print(\"##################### Quantiles #####################\")\n",
        "    print(dataframe.quantile([0, 0.05, 0.50, 0.95, 0.99, 1]).T)"
      ],
      "metadata": {
        "id": "IGx3Lg2v5MR6"
      },
      "execution_count": 259,
      "outputs": []
    },
    {
      "cell_type": "code",
      "source": [
        "def grab_col_names(dataframe, cat_th=10, car_th=20):\n",
        "    \"\"\"\n",
        "\n",
        "    Veri setindeki kategorik, numerik ve kategorik fakat kardinal değişkenlerin isimlerini verir.\n",
        "    Not: Kategorik değişkenlerin içerisine numerik görünümlü kategorik değişkenler de dahildir.\n",
        "\n",
        "    Parameters\n",
        "    ------\n",
        "        dataframe: dataframe\n",
        "                Değişken isimleri alınmak istenilen dataframe\n",
        "        cat_th: int, optional\n",
        "                numerik fakat kategorik olan değişkenler için sınıf eşik değeri\n",
        "        car_th: int, optinal\n",
        "                kategorik fakat kardinal değişkenler için sınıf eşik değeri\n",
        "\n",
        "    Returns\n",
        "    ------\n",
        "        cat_cols: list\n",
        "                Kategorik değişken listesi\n",
        "        num_cols: list\n",
        "                Numerik değişken listesi\n",
        "        cat_but_car: list\n",
        "                Kategorik görünümlü kardinal değişken listesi\n",
        "\n",
        "    Examples\n",
        "    ------\n",
        "        import seaborn as sns\n",
        "        df = sns.load_dataset(\"iris\")\n",
        "        print(grab_col_names(df))\n",
        "\n",
        "\n",
        "    Notes\n",
        "    ------\n",
        "        cat_cols + num_cols + cat_but_car = toplam değişken sayısı\n",
        "        num_but_cat cat_cols'un içerisinde.\n",
        "        Return olan 3 liste toplamı toplam değişken sayısına eşittir: cat_cols + num_cols + cat_but_car = değişken sayısı\n",
        "\n",
        "    \"\"\"\n",
        "\n",
        "     # cat_cols, cat_but_car\n",
        "    cat_cols = [col for col in dataframe.columns if dataframe[col].dtypes == \"O\"]\n",
        "    num_but_cat = [col for col in dataframe.columns if dataframe[col].nunique() < cat_th and\n",
        "                   dataframe[col].dtypes != \"O\"]\n",
        "    cat_but_car = [col for col in dataframe.columns if dataframe[col].nunique() > car_th and\n",
        "                   dataframe[col].dtypes == \"O\"]\n",
        "    cat_cols = cat_cols + num_but_cat\n",
        "    cat_cols = [col for col in cat_cols if col not in cat_but_car]\n",
        "\n",
        "    # num_cols\n",
        "    num_cols = [col for col in dataframe.columns if dataframe[col].dtypes != \"O\"]\n",
        "    num_cols = [col for col in num_cols if col not in num_but_cat]\n",
        "\n",
        "    # print(f\"Observations: {dataframe.shape[0]}\")\n",
        "    # print(f\"Variables: {dataframe.shape[1]}\")\n",
        "    # print(f'cat_cols: {len(cat_cols)}')\n",
        "    # print(f'num_cols: {len(num_cols)}')\n",
        "    # print(f'cat_but_car: {len(cat_but_car)}')\n",
        "    # print(f'num_but_cat: {len(num_but_cat)}')\n",
        "    return cat_cols, num_cols, cat_but_car"
      ],
      "metadata": {
        "id": "wmFlp6dyz7Ru"
      },
      "execution_count": 260,
      "outputs": []
    },
    {
      "cell_type": "code",
      "source": [
        "def correlation_matrix(df, cols):\n",
        "    fig = plt.gcf()\n",
        "    fig.set_size_inches(10, 8)\n",
        "    plt.xticks(fontsize=10)\n",
        "    plt.yticks(fontsize=10)\n",
        "    fig = sns.heatmap(df[cols].corr(), annot=True, linewidths=0.5, annot_kws={'size': 12}, linecolor='w', cmap='RdBu')\n",
        "    plt.show(block=True)"
      ],
      "metadata": {
        "id": "dgRjluEcAvg-"
      },
      "execution_count": 261,
      "outputs": []
    },
    {
      "cell_type": "code",
      "source": [
        "df_ang_vel = pd.read_csv(\"/content/drive/MyDrive/titra/angular_velocity.csv\")"
      ],
      "metadata": {
        "id": "vduwKbUV4b98"
      },
      "execution_count": 262,
      "outputs": []
    },
    {
      "cell_type": "code",
      "source": [
        "df_fly = pd.read_csv(\"/content/drive/MyDrive/titra/flight.csv\")"
      ],
      "metadata": {
        "id": "6vIMKo-I4XBk"
      },
      "execution_count": 263,
      "outputs": []
    },
    {
      "cell_type": "code",
      "source": [
        "df_gps = pd.read_csv(\"/content/drive/MyDrive/titra/gps.csv\")"
      ],
      "metadata": {
        "id": "N5g4Yz564wkn"
      },
      "execution_count": 264,
      "outputs": []
    },
    {
      "cell_type": "code",
      "source": [
        "df_ang_vel[\"a\"]=df_ang_vel[\"xyz[0]\"]/df_ang_vel[\"xyz[1]\"]"
      ],
      "metadata": {
        "id": "c4LmcMgYBIQE"
      },
      "execution_count": 265,
      "outputs": []
    },
    {
      "cell_type": "code",
      "source": [
        "df_ang_vel[\"b\"]=df_ang_vel[\"xyz[1]\"]/df_ang_vel[\"xyz[0]\"]"
      ],
      "metadata": {
        "id": "9J9gncFSBKyf"
      },
      "execution_count": 266,
      "outputs": []
    },
    {
      "cell_type": "code",
      "source": [
        "df_ang_vel=df_ang_vel[(df_ang_vel[\"a\"]>1.3) | (df_ang_vel[\"b\"]>1.3)]"
      ],
      "metadata": {
        "id": "r2Dy4YbYBKri"
      },
      "execution_count": 267,
      "outputs": []
    },
    {
      "cell_type": "code",
      "source": [
        "check_df(df_ang_vel)"
      ],
      "metadata": {
        "colab": {
          "base_uri": "https://localhost:8080/"
        },
        "id": "Pp2E4b2-48DR",
        "outputId": "dace8ea4-9070-4340-eb4a-eb55e66f7873"
      },
      "execution_count": 268,
      "outputs": [
        {
          "output_type": "stream",
          "name": "stdout",
          "text": [
            "##################### Shape #####################\n",
            "(5438, 8)\n",
            "##################### Types #####################\n",
            "flight_id      int64\n",
            "time          object\n",
            "xyz[0]       float64\n",
            "xyz[1]       float64\n",
            "xyz[2]       float64\n",
            "type          object\n",
            "a            float64\n",
            "b            float64\n",
            "dtype: object\n",
            "##################### Head #####################\n",
            "    flight_id                        time  xyz[0]  xyz[1]  xyz[2]  \\\n",
            "14         68  1970-01-01 00:00:00.367646   0.290   0.004  -0.182   \n",
            "15         68  1970-01-01 00:00:00.367668   0.394   0.007  -0.189   \n",
            "16         68  1970-01-01 00:00:00.367688   0.425   0.002  -0.196   \n",
            "23         68  1970-01-01 00:00:00.367828   0.351   0.002  -0.084   \n",
            "24         68  1970-01-01 00:00:00.367846   0.307   0.007  -0.068   \n",
            "\n",
            "                          type       a     b  \n",
            "14  vehicle_angular_velocity_0  73.082 0.014  \n",
            "15  vehicle_angular_velocity_0  59.695 0.017  \n",
            "16  vehicle_angular_velocity_0 215.725 0.005  \n",
            "23  vehicle_angular_velocity_0 180.303 0.006  \n",
            "24  vehicle_angular_velocity_0  41.606 0.024  \n",
            "##################### Tail #####################\n",
            "       flight_id                        time  xyz[0]  xyz[1]  xyz[2]  \\\n",
            "10791         69  1970-01-01 00:00:00.104613   0.013   0.004   0.003   \n",
            "10796         69  1970-01-01 00:00:00.104715  -0.019  -0.006   0.001   \n",
            "10797         69  1970-01-01 00:00:00.104735  -0.017  -0.007  -0.005   \n",
            "10799         69  1970-01-01 00:00:00.104773   0.021   0.006   0.002   \n",
            "10800         69  1970-01-01 00:00:00.104795   0.048   0.004   0.005   \n",
            "\n",
            "                             type      a     b  \n",
            "10791  vehicle_angular_velocity_0  2.962 0.338  \n",
            "10796  vehicle_angular_velocity_0  2.958 0.338  \n",
            "10797  vehicle_angular_velocity_0  2.439 0.410  \n",
            "10799  vehicle_angular_velocity_0  3.574 0.280  \n",
            "10800  vehicle_angular_velocity_0 11.263 0.089  \n",
            "##################### NA #####################\n",
            "flight_id    0\n",
            "time         0\n",
            "xyz[0]       0\n",
            "xyz[1]       0\n",
            "xyz[2]       0\n",
            "type         0\n",
            "a            0\n",
            "b            0\n",
            "dtype: int64\n",
            "##################### Quantiles #####################\n",
            "           0.000  0.050  0.500  0.950   0.990    1.000\n",
            "flight_id 68.000 68.000 68.000 69.000  69.000   69.000\n",
            "xyz[0]    -1.987 -0.365  0.016  0.385   0.818    1.811\n",
            "xyz[1]    -1.218 -0.268  0.005  0.598   0.950    1.101\n",
            "xyz[2]    -0.689 -0.331  0.000  0.263   0.544    0.784\n",
            "a          0.000  0.096  1.729 27.051 178.438 4357.982\n",
            "b          0.000  0.037  0.578 10.426  42.706 5432.682\n"
          ]
        }
      ]
    },
    {
      "cell_type": "markdown",
      "source": [
        "change the type of timestamp column for plotting\n"
      ],
      "metadata": {
        "id": "6PXV6Krl752K"
      }
    },
    {
      "cell_type": "code",
      "source": [
        "df_ang_vel['time'] = pd.to_datetime(df_ang_vel['time'])"
      ],
      "metadata": {
        "id": "AywdLHuU5-ef"
      },
      "execution_count": 269,
      "outputs": []
    },
    {
      "cell_type": "code",
      "source": [
        "df_ang_vel['time']=df_ang_vel['time'].dt.strftime('%f')"
      ],
      "metadata": {
        "id": "tEm9_D84Bp_D"
      },
      "execution_count": 270,
      "outputs": []
    },
    {
      "cell_type": "code",
      "source": [
        "df_ang_vel[\"time\"]=df_ang_vel[\"time\"].astype(\"int64\")"
      ],
      "metadata": {
        "id": "x9IycVHgBp3V"
      },
      "execution_count": 271,
      "outputs": []
    },
    {
      "cell_type": "code",
      "source": [
        "df_ang_vel.info()"
      ],
      "metadata": {
        "colab": {
          "base_uri": "https://localhost:8080/"
        },
        "id": "qKHqXCBd8D0p",
        "outputId": "86cc80cb-7b2b-4bf0-848a-f537aac37103"
      },
      "execution_count": 272,
      "outputs": [
        {
          "output_type": "stream",
          "name": "stdout",
          "text": [
            "<class 'pandas.core.frame.DataFrame'>\n",
            "Int64Index: 5438 entries, 14 to 10800\n",
            "Data columns (total 8 columns):\n",
            " #   Column     Non-Null Count  Dtype  \n",
            "---  ------     --------------  -----  \n",
            " 0   flight_id  5438 non-null   int64  \n",
            " 1   time       5438 non-null   int64  \n",
            " 2   xyz[0]     5438 non-null   float64\n",
            " 3   xyz[1]     5438 non-null   float64\n",
            " 4   xyz[2]     5438 non-null   float64\n",
            " 5   type       5438 non-null   object \n",
            " 6   a          5438 non-null   float64\n",
            " 7   b          5438 non-null   float64\n",
            "dtypes: float64(5), int64(2), object(1)\n",
            "memory usage: 382.4+ KB\n"
          ]
        }
      ]
    },
    {
      "cell_type": "code",
      "source": [
        "cat_cols, num_cols, cat_but_car = grab_col_names(df_ang_vel, cat_th=5, car_th=20)"
      ],
      "metadata": {
        "id": "Ld4RA5i_0BNO"
      },
      "execution_count": 273,
      "outputs": []
    },
    {
      "cell_type": "code",
      "source": [
        "correlation_matrix(df_ang_vel, num_cols)"
      ],
      "metadata": {
        "id": "0FDvEJHKAxg4",
        "colab": {
          "base_uri": "https://localhost:8080/",
          "height": 487
        },
        "outputId": "c22f6fd4-e8f0-45c9-f4d7-6ff9124d58b3"
      },
      "execution_count": 274,
      "outputs": [
        {
          "output_type": "display_data",
          "data": {
            "text/plain": [
              "<Figure size 720x576 with 2 Axes>"
            ],
            "image/png": "[encoded data removed]"
          },
          "metadata": {}
        }
      ]
    },
    {
      "cell_type": "code",
      "source": [
        "df_fly.head()"
      ],
      "metadata": {
        "colab": {
          "base_uri": "https://localhost:8080/",
          "height": 112
        },
        "id": "K2JGfl-2DryI",
        "outputId": "f58419fa-0301-43c4-dbb3-c75db715a166"
      },
      "execution_count": 275,
      "outputs": [
        {
          "output_type": "execute_result",
          "data": {
            "text/plain": [
              "   flight_id  model_id  mission_id          flight_date  \\\n",
              "0         68         3           2  2022-09-08 11:01:00   \n",
              "1         69         3           2  2022-09-08 13:42:00   \n",
              "\n",
              "                 landing_date landing_success flight_success  flight_county  \\\n",
              "0  2022-09-08 11:02:09.630734               t              t  Kahramankazan   \n",
              "1  2022-09-08 13:42:58.787339               t              t  Kahramankazan   \n",
              "\n",
              "  flight_province       flight_region real_flight_time mission_success  \n",
              "0          Ankara  İç Anadolu Bölgesi         00:02:43               t  \n",
              "1          Ankara  İç Anadolu Bölgesi         00:00:00               f  "
            ],
            "text/html": [
              "\n",
              "  <div id=\"df-7f2cbebe-b775-4dc5-8e3b-18218959d344\">\n",
              "    <div class=\"colab-df-container\">\n",
              "      <div>\n",
              "<style scoped>\n",
              "    .dataframe tbody tr th:only-of-type {\n",
              "        vertical-align: middle;\n",
              "    }\n",
              "\n",
              "    .dataframe tbody tr th {\n",
              "        vertical-align: top;\n",
              "    }\n",
              "\n",
              "    .dataframe thead th {\n",
              "        text-align: right;\n",
              "    }\n",
              "</style>\n",
              "<table border=\"1\" class=\"dataframe\">\n",
              "  <thead>\n",
              "    <tr style=\"text-align: right;\">\n",
              "      <th></th>\n",
              "      <th>flight_id</th>\n",
              "      <th>model_id</th>\n",
              "      <th>mission_id</th>\n",
              "      <th>flight_date</th>\n",
              "      <th>landing_date</th>\n",
              "      <th>landing_success</th>\n",
              "      <th>flight_success</th>\n",
              "      <th>flight_county</th>\n",
              "      <th>flight_province</th>\n",
              "      <th>flight_region</th>\n",
              "      <th>real_flight_time</th>\n",
              "      <th>mission_success</th>\n",
              "    </tr>\n",
              "  </thead>\n",
              "  <tbody>\n",
              "    <tr>\n",
              "      <th>0</th>\n",
              "      <td>68</td>\n",
              "      <td>3</td>\n",
              "      <td>2</td>\n",
              "      <td>2022-09-08 11:01:00</td>\n",
              "      <td>2022-09-08 11:02:09.630734</td>\n",
              "      <td>t</td>\n",
              "      <td>t</td>\n",
              "      <td>Kahramankazan</td>\n",
              "      <td>Ankara</td>\n",
              "      <td>İç Anadolu Bölgesi</td>\n",
              "      <td>00:02:43</td>\n",
              "      <td>t</td>\n",
              "    </tr>\n",
              "    <tr>\n",
              "      <th>1</th>\n",
              "      <td>69</td>\n",
              "      <td>3</td>\n",
              "      <td>2</td>\n",
              "      <td>2022-09-08 13:42:00</td>\n",
              "      <td>2022-09-08 13:42:58.787339</td>\n",
              "      <td>t</td>\n",
              "      <td>t</td>\n",
              "      <td>Kahramankazan</td>\n",
              "      <td>Ankara</td>\n",
              "      <td>İç Anadolu Bölgesi</td>\n",
              "      <td>00:00:00</td>\n",
              "      <td>f</td>\n",
              "    </tr>\n",
              "  </tbody>\n",
              "</table>\n",
              "</div>\n",
              "      <button class=\"colab-df-convert\" onclick=\"convertToInteractive('df-7f2cbebe-b775-4dc5-8e3b-18218959d344')\"\n",
              "              title=\"Convert this dataframe to an interactive table.\"\n",
              "              style=\"display:none;\">\n",
              "        \n",
              "  <svg xmlns=\"http://www.w3.org/2000/svg\" height=\"24px\"viewBox=\"0 0 24 24\"\n",
              "       width=\"24px\">\n",
              "    <path d=\"M0 0h24v24H0V0z\" fill=\"none\"/>\n",
              "    <path d=\"M18.56 5.44l.94 2.06.94-2.06 2.06-.94-2.06-.94-.94-2.06-.94 2.06-2.06.94zm-11 1L8.5 8.5l.94-2.06 2.06-.94-2.06-.94L8.5 2.5l-.94 2.06-2.06.94zm10 10l.94 2.06.94-2.06 2.06-.94-2.06-.94-.94-2.06-.94 2.06-2.06.94z\"/><path d=\"M17.41 7.96l-1.37-1.37c-.4-.4-.92-.59-1.43-.59-.52 0-1.04.2-1.43.59L10.3 9.45l-7.72 7.72c-.78.78-.78 2.05 0 2.83L4 21.41c.39.39.9.59 1.41.59.51 0 1.02-.2 1.41-.59l7.78-7.78 2.81-2.81c.8-.78.8-2.07 0-2.86zM5.41 20L4 18.59l7.72-7.72 1.47 1.35L5.41 20z\"/>\n",
              "  </svg>\n",
              "      </button>\n",
              "      \n",
              "  <style>\n",
              "    .colab-df-container {\n",
              "      display:flex;\n",
              "      flex-wrap:wrap;\n",
              "      gap: 12px;\n",
              "    }\n",
              "\n",
              "    .colab-df-convert {\n",
              "      background-color: #E8F0FE;\n",
              "      border: none;\n",
              "      border-radius: 50%;\n",
              "      cursor: pointer;\n",
              "      display: none;\n",
              "      fill: #1967D2;\n",
              "      height: 32px;\n",
              "      padding: 0 0 0 0;\n",
              "      width: 32px;\n",
              "    }\n",
              "\n",
              "    .colab-df-convert:hover {\n",
              "      background-color: #E2EBFA;\n",
              "      box-shadow: 0px 1px 2px rgba(60, 64, 67, 0.3), 0px 1px 3px 1px rgba(60, 64, 67, 0.15);\n",
              "      fill: #174EA6;\n",
              "    }\n",
              "\n",
              "    [theme=dark] .colab-df-convert {\n",
              "      background-color: #3B4455;\n",
              "      fill: #D2E3FC;\n",
              "    }\n",
              "\n",
              "    [theme=dark] .colab-df-convert:hover {\n",
              "      background-color: #434B5C;\n",
              "      box-shadow: 0px 1px 3px 1px rgba(0, 0, 0, 0.15);\n",
              "      filter: drop-shadow(0px 1px 2px rgba(0, 0, 0, 0.3));\n",
              "      fill: #FFFFFF;\n",
              "    }\n",
              "  </style>\n",
              "\n",
              "      <script>\n",
              "        const buttonEl =\n",
              "          document.querySelector('#df-7f2cbebe-b775-4dc5-8e3b-18218959d344 button.colab-df-convert');\n",
              "        buttonEl.style.display =\n",
              "          google.colab.kernel.accessAllowed ? 'block' : 'none';\n",
              "\n",
              "        async function convertToInteractive(key) {\n",
              "          const element = document.querySelector('#df-7f2cbebe-b775-4dc5-8e3b-18218959d344');\n",
              "          const dataTable =\n",
              "            await google.colab.kernel.invokeFunction('convertToInteractive',\n",
              "                                                     [key], {});\n",
              "          if (!dataTable) return;\n",
              "\n",
              "          const docLinkHtml = 'Like what you see? Visit the ' +\n",
              "            '<a target=\"_blank\" href=https://colab.research.google.com/notebooks/data_table.ipynb>data table notebook</a>'\n",
              "            + ' to learn more about interactive tables.';\n",
              "          element.innerHTML = '';\n",
              "          dataTable['output_type'] = 'display_data';\n",
              "          await google.colab.output.renderOutput(dataTable, element);\n",
              "          const docLink = document.createElement('div');\n",
              "          docLink.innerHTML = docLinkHtml;\n",
              "          element.appendChild(docLink);\n",
              "        }\n",
              "      </script>\n",
              "    </div>\n",
              "  </div>\n",
              "  "
            ]
          },
          "metadata": {},
          "execution_count": 275
        }
      ]
    },
    {
      "cell_type": "code",
      "source": [
        "check_df(df_fly)"
      ],
      "metadata": {
        "colab": {
          "base_uri": "https://localhost:8080/"
        },
        "id": "hE2b3DTBDlla",
        "outputId": "1e2a02e4-e474-42d3-9559-df50797d8edb"
      },
      "execution_count": 276,
      "outputs": [
        {
          "output_type": "stream",
          "name": "stdout",
          "text": [
            "##################### Shape #####################\n",
            "(2, 12)\n",
            "##################### Types #####################\n",
            "flight_id            int64\n",
            "model_id             int64\n",
            "mission_id           int64\n",
            "flight_date         object\n",
            "landing_date        object\n",
            "landing_success     object\n",
            "flight_success      object\n",
            "flight_county       object\n",
            "flight_province     object\n",
            "flight_region       object\n",
            "real_flight_time    object\n",
            "mission_success     object\n",
            "dtype: object\n",
            "##################### Head #####################\n",
            "   flight_id  model_id  mission_id          flight_date  \\\n",
            "0         68         3           2  2022-09-08 11:01:00   \n",
            "1         69         3           2  2022-09-08 13:42:00   \n",
            "\n",
            "                 landing_date landing_success flight_success  flight_county  \\\n",
            "0  2022-09-08 11:02:09.630734               t              t  Kahramankazan   \n",
            "1  2022-09-08 13:42:58.787339               t              t  Kahramankazan   \n",
            "\n",
            "  flight_province       flight_region real_flight_time mission_success  \n",
            "0          Ankara  İç Anadolu Bölgesi         00:02:43               t  \n",
            "1          Ankara  İç Anadolu Bölgesi         00:00:00               f  \n",
            "##################### Tail #####################\n",
            "   flight_id  model_id  mission_id          flight_date  \\\n",
            "0         68         3           2  2022-09-08 11:01:00   \n",
            "1         69         3           2  2022-09-08 13:42:00   \n",
            "\n",
            "                 landing_date landing_success flight_success  flight_county  \\\n",
            "0  2022-09-08 11:02:09.630734               t              t  Kahramankazan   \n",
            "1  2022-09-08 13:42:58.787339               t              t  Kahramankazan   \n",
            "\n",
            "  flight_province       flight_region real_flight_time mission_success  \n",
            "0          Ankara  İç Anadolu Bölgesi         00:02:43               t  \n",
            "1          Ankara  İç Anadolu Bölgesi         00:00:00               f  \n",
            "##################### NA #####################\n",
            "flight_id           0\n",
            "model_id            0\n",
            "mission_id          0\n",
            "flight_date         0\n",
            "landing_date        0\n",
            "landing_success     0\n",
            "flight_success      0\n",
            "flight_county       0\n",
            "flight_province     0\n",
            "flight_region       0\n",
            "real_flight_time    0\n",
            "mission_success     0\n",
            "dtype: int64\n",
            "##################### Quantiles #####################\n",
            "            0.000  0.050  0.500  0.950  0.990  1.000\n",
            "flight_id  68.000 68.050 68.500 68.950 68.990 69.000\n",
            "model_id    3.000  3.000  3.000  3.000  3.000  3.000\n",
            "mission_id  2.000  2.000  2.000  2.000  2.000  2.000\n"
          ]
        }
      ]
    },
    {
      "cell_type": "code",
      "source": [
        "df_gps.head()"
      ],
      "metadata": {
        "colab": {
          "base_uri": "https://localhost:8080/",
          "height": 206
        },
        "id": "WPIsqghXDldI",
        "outputId": "9995ab12-8b7e-4bb9-c05b-b416474f9006"
      },
      "execution_count": 277,
      "outputs": [
        {
          "output_type": "execute_result",
          "data": {
            "text/plain": [
              "   flight_id                        time    lat    lon   alt\n",
              "0         68  1970-01-01 00:00:00.367295 40.138 32.549 0.094\n",
              "1         68  1970-01-01 00:00:00.367455 40.138 32.549 0.094\n",
              "2         68   1970-01-01 00:00:00.36785 40.138 32.549 0.094\n",
              "3         68  1970-01-01 00:00:00.368248 40.138 32.549 0.094\n",
              "4         68   1970-01-01 00:00:00.36885 40.138 32.549 0.094"
            ],
            "text/html": [
              "\n",
              "  <div id=\"df-71a8c47d-7f58-42d8-8947-122213f53571\">\n",
              "    <div class=\"colab-df-container\">\n",
              "      <div>\n",
              "<style scoped>\n",
              "    .dataframe tbody tr th:only-of-type {\n",
              "        vertical-align: middle;\n",
              "    }\n",
              "\n",
              "    .dataframe tbody tr th {\n",
              "        vertical-align: top;\n",
              "    }\n",
              "\n",
              "    .dataframe thead th {\n",
              "        text-align: right;\n",
              "    }\n",
              "</style>\n",
              "<table border=\"1\" class=\"dataframe\">\n",
              "  <thead>\n",
              "    <tr style=\"text-align: right;\">\n",
              "      <th></th>\n",
              "      <th>flight_id</th>\n",
              "      <th>time</th>\n",
              "      <th>lat</th>\n",
              "      <th>lon</th>\n",
              "      <th>alt</th>\n",
              "    </tr>\n",
              "  </thead>\n",
              "  <tbody>\n",
              "    <tr>\n",
              "      <th>0</th>\n",
              "      <td>68</td>\n",
              "      <td>1970-01-01 00:00:00.367295</td>\n",
              "      <td>40.138</td>\n",
              "      <td>32.549</td>\n",
              "      <td>0.094</td>\n",
              "    </tr>\n",
              "    <tr>\n",
              "      <th>1</th>\n",
              "      <td>68</td>\n",
              "      <td>1970-01-01 00:00:00.367455</td>\n",
              "      <td>40.138</td>\n",
              "      <td>32.549</td>\n",
              "      <td>0.094</td>\n",
              "    </tr>\n",
              "    <tr>\n",
              "      <th>2</th>\n",
              "      <td>68</td>\n",
              "      <td>1970-01-01 00:00:00.36785</td>\n",
              "      <td>40.138</td>\n",
              "      <td>32.549</td>\n",
              "      <td>0.094</td>\n",
              "    </tr>\n",
              "    <tr>\n",
              "      <th>3</th>\n",
              "      <td>68</td>\n",
              "      <td>1970-01-01 00:00:00.368248</td>\n",
              "      <td>40.138</td>\n",
              "      <td>32.549</td>\n",
              "      <td>0.094</td>\n",
              "    </tr>\n",
              "    <tr>\n",
              "      <th>4</th>\n",
              "      <td>68</td>\n",
              "      <td>1970-01-01 00:00:00.36885</td>\n",
              "      <td>40.138</td>\n",
              "      <td>32.549</td>\n",
              "      <td>0.094</td>\n",
              "    </tr>\n",
              "  </tbody>\n",
              "</table>\n",
              "</div>\n",
              "      <button class=\"colab-df-convert\" onclick=\"convertToInteractive('df-71a8c47d-7f58-42d8-8947-122213f53571')\"\n",
              "              title=\"Convert this dataframe to an interactive table.\"\n",
              "              style=\"display:none;\">\n",
              "        \n",
              "  <svg xmlns=\"http://www.w3.org/2000/svg\" height=\"24px\"viewBox=\"0 0 24 24\"\n",
              "       width=\"24px\">\n",
              "    <path d=\"M0 0h24v24H0V0z\" fill=\"none\"/>\n",
              "    <path d=\"M18.56 5.44l.94 2.06.94-2.06 2.06-.94-2.06-.94-.94-2.06-.94 2.06-2.06.94zm-11 1L8.5 8.5l.94-2.06 2.06-.94-2.06-.94L8.5 2.5l-.94 2.06-2.06.94zm10 10l.94 2.06.94-2.06 2.06-.94-2.06-.94-.94-2.06-.94 2.06-2.06.94z\"/><path d=\"M17.41 7.96l-1.37-1.37c-.4-.4-.92-.59-1.43-.59-.52 0-1.04.2-1.43.59L10.3 9.45l-7.72 7.72c-.78.78-.78 2.05 0 2.83L4 21.41c.39.39.9.59 1.41.59.51 0 1.02-.2 1.41-.59l7.78-7.78 2.81-2.81c.8-.78.8-2.07 0-2.86zM5.41 20L4 18.59l7.72-7.72 1.47 1.35L5.41 20z\"/>\n",
              "  </svg>\n",
              "      </button>\n",
              "      \n",
              "  <style>\n",
              "    .colab-df-container {\n",
              "      display:flex;\n",
              "      flex-wrap:wrap;\n",
              "      gap: 12px;\n",
              "    }\n",
              "\n",
              "    .colab-df-convert {\n",
              "      background-color: #E8F0FE;\n",
              "      border: none;\n",
              "      border-radius: 50%;\n",
              "      cursor: pointer;\n",
              "      display: none;\n",
              "      fill: #1967D2;\n",
              "      height: 32px;\n",
              "      padding: 0 0 0 0;\n",
              "      width: 32px;\n",
              "    }\n",
              "\n",
              "    .colab-df-convert:hover {\n",
              "      background-color: #E2EBFA;\n",
              "      box-shadow: 0px 1px 2px rgba(60, 64, 67, 0.3), 0px 1px 3px 1px rgba(60, 64, 67, 0.15);\n",
              "      fill: #174EA6;\n",
              "    }\n",
              "\n",
              "    [theme=dark] .colab-df-convert {\n",
              "      background-color: #3B4455;\n",
              "      fill: #D2E3FC;\n",
              "    }\n",
              "\n",
              "    [theme=dark] .colab-df-convert:hover {\n",
              "      background-color: #434B5C;\n",
              "      box-shadow: 0px 1px 3px 1px rgba(0, 0, 0, 0.15);\n",
              "      filter: drop-shadow(0px 1px 2px rgba(0, 0, 0, 0.3));\n",
              "      fill: #FFFFFF;\n",
              "    }\n",
              "  </style>\n",
              "\n",
              "      <script>\n",
              "        const buttonEl =\n",
              "          document.querySelector('#df-71a8c47d-7f58-42d8-8947-122213f53571 button.colab-df-convert');\n",
              "        buttonEl.style.display =\n",
              "          google.colab.kernel.accessAllowed ? 'block' : 'none';\n",
              "\n",
              "        async function convertToInteractive(key) {\n",
              "          const element = document.querySelector('#df-71a8c47d-7f58-42d8-8947-122213f53571');\n",
              "          const dataTable =\n",
              "            await google.colab.kernel.invokeFunction('convertToInteractive',\n",
              "                                                     [key], {});\n",
              "          if (!dataTable) return;\n",
              "\n",
              "          const docLinkHtml = 'Like what you see? Visit the ' +\n",
              "            '<a target=\"_blank\" href=https://colab.research.google.com/notebooks/data_table.ipynb>data table notebook</a>'\n",
              "            + ' to learn more about interactive tables.';\n",
              "          element.innerHTML = '';\n",
              "          dataTable['output_type'] = 'display_data';\n",
              "          await google.colab.output.renderOutput(dataTable, element);\n",
              "          const docLink = document.createElement('div');\n",
              "          docLink.innerHTML = docLinkHtml;\n",
              "          element.appendChild(docLink);\n",
              "        }\n",
              "      </script>\n",
              "    </div>\n",
              "  </div>\n",
              "  "
            ]
          },
          "metadata": {},
          "execution_count": 277
        }
      ]
    },
    {
      "cell_type": "code",
      "source": [
        "check_df(df_gps)"
      ],
      "metadata": {
        "colab": {
          "base_uri": "https://localhost:8080/"
        },
        "id": "0g2UNsPND_WZ",
        "outputId": "7e3cb052-98d6-405c-8c64-318317159c9f"
      },
      "execution_count": 278,
      "outputs": [
        {
          "output_type": "stream",
          "name": "stdout",
          "text": [
            "##################### Shape #####################\n",
            "(435, 5)\n",
            "##################### Types #####################\n",
            "flight_id      int64\n",
            "time          object\n",
            "lat          float64\n",
            "lon          float64\n",
            "alt          float64\n",
            "dtype: object\n",
            "##################### Head #####################\n",
            "   flight_id                        time    lat    lon   alt\n",
            "0         68  1970-01-01 00:00:00.367295 40.138 32.549 0.094\n",
            "1         68  1970-01-01 00:00:00.367455 40.138 32.549 0.094\n",
            "2         68   1970-01-01 00:00:00.36785 40.138 32.549 0.094\n",
            "3         68  1970-01-01 00:00:00.368248 40.138 32.549 0.094\n",
            "4         68   1970-01-01 00:00:00.36885 40.138 32.549 0.094\n",
            "##################### Tail #####################\n",
            "     flight_id                        time    lat    lon   alt\n",
            "430         69  1970-01-01 00:00:00.102522 40.050 32.596 0.082\n",
            "431         69  1970-01-01 00:00:00.103124 40.050 32.596 0.082\n",
            "432         69  1970-01-01 00:00:00.103522 40.050 32.596 0.082\n",
            "433         69  1970-01-01 00:00:00.104126 40.050 32.596 0.082\n",
            "434         69  1970-01-01 00:00:00.104522 40.050 32.596 0.082\n",
            "##################### NA #####################\n",
            "flight_id    0\n",
            "time         0\n",
            "lat          0\n",
            "lon          0\n",
            "alt          0\n",
            "dtype: int64\n",
            "##################### Quantiles #####################\n",
            "           0.000  0.050  0.500  0.950  0.990  1.000\n",
            "flight_id 68.000 68.000 68.000 69.000 69.000 69.000\n",
            "lat       40.050 40.050 40.138 40.140 40.140 40.140\n",
            "lon       32.543 32.544 32.549 32.596 32.596 32.596\n",
            "alt        0.082  0.082  0.109  0.114  0.114  0.114\n"
          ]
        }
      ]
    },
    {
      "cell_type": "code",
      "source": [
        "df_gps.info()"
      ],
      "metadata": {
        "colab": {
          "base_uri": "https://localhost:8080/"
        },
        "id": "bTAM0nwZE5x2",
        "outputId": "534c5810-0423-4f6b-ecc3-baeaadc76414"
      },
      "execution_count": 279,
      "outputs": [
        {
          "output_type": "stream",
          "name": "stdout",
          "text": [
            "<class 'pandas.core.frame.DataFrame'>\n",
            "RangeIndex: 435 entries, 0 to 434\n",
            "Data columns (total 5 columns):\n",
            " #   Column     Non-Null Count  Dtype  \n",
            "---  ------     --------------  -----  \n",
            " 0   flight_id  435 non-null    int64  \n",
            " 1   time       435 non-null    object \n",
            " 2   lat        435 non-null    float64\n",
            " 3   lon        435 non-null    float64\n",
            " 4   alt        435 non-null    float64\n",
            "dtypes: float64(3), int64(1), object(1)\n",
            "memory usage: 17.1+ KB\n"
          ]
        }
      ]
    },
    {
      "cell_type": "code",
      "source": [
        "df_gps['time'] = pd.to_datetime(df_gps['time'])"
      ],
      "metadata": {
        "id": "fI-6SCGhFkU9"
      },
      "execution_count": 280,
      "outputs": []
    },
    {
      "cell_type": "code",
      "source": [
        "df_gps['time']=df_gps['time'].dt.strftime('%f')"
      ],
      "metadata": {
        "id": "8sNiQ3T4Fqei"
      },
      "execution_count": 281,
      "outputs": []
    },
    {
      "cell_type": "code",
      "source": [
        "df_gps[\"time\"]=df_gps[\"time\"].astype(\"int64\")"
      ],
      "metadata": {
        "id": "z6m194AUFqP_"
      },
      "execution_count": 282,
      "outputs": []
    },
    {
      "cell_type": "code",
      "source": [
        "df_gps.info()"
      ],
      "metadata": {
        "colab": {
          "base_uri": "https://localhost:8080/"
        },
        "id": "lboOvkGnF_rD",
        "outputId": "eab3ee54-3161-439f-975e-47f1d20a029e"
      },
      "execution_count": 283,
      "outputs": [
        {
          "output_type": "stream",
          "name": "stdout",
          "text": [
            "<class 'pandas.core.frame.DataFrame'>\n",
            "RangeIndex: 435 entries, 0 to 434\n",
            "Data columns (total 5 columns):\n",
            " #   Column     Non-Null Count  Dtype  \n",
            "---  ------     --------------  -----  \n",
            " 0   flight_id  435 non-null    int64  \n",
            " 1   time       435 non-null    int64  \n",
            " 2   lat        435 non-null    float64\n",
            " 3   lon        435 non-null    float64\n",
            " 4   alt        435 non-null    float64\n",
            "dtypes: float64(3), int64(2)\n",
            "memory usage: 17.1 KB\n"
          ]
        }
      ]
    },
    {
      "cell_type": "code",
      "source": [
        "df_ang_vel.info()"
      ],
      "metadata": {
        "colab": {
          "base_uri": "https://localhost:8080/"
        },
        "id": "TTrNWHLnFAGw",
        "outputId": "d53490ca-13d0-48bf-8512-34e63c9a52ea"
      },
      "execution_count": 284,
      "outputs": [
        {
          "output_type": "stream",
          "name": "stdout",
          "text": [
            "<class 'pandas.core.frame.DataFrame'>\n",
            "Int64Index: 5438 entries, 14 to 10800\n",
            "Data columns (total 8 columns):\n",
            " #   Column     Non-Null Count  Dtype  \n",
            "---  ------     --------------  -----  \n",
            " 0   flight_id  5438 non-null   int64  \n",
            " 1   time       5438 non-null   int64  \n",
            " 2   xyz[0]     5438 non-null   float64\n",
            " 3   xyz[1]     5438 non-null   float64\n",
            " 4   xyz[2]     5438 non-null   float64\n",
            " 5   type       5438 non-null   object \n",
            " 6   a          5438 non-null   float64\n",
            " 7   b          5438 non-null   float64\n",
            "dtypes: float64(5), int64(2), object(1)\n",
            "memory usage: 382.4+ KB\n"
          ]
        }
      ]
    },
    {
      "cell_type": "code",
      "source": [
        "df = pd.merge(df_ang_vel,df_gps,on=[\"time\",\"flight_id\"],how='inner')"
      ],
      "metadata": {
        "id": "Eqwp9h_fG071"
      },
      "execution_count": 285,
      "outputs": []
    },
    {
      "cell_type": "code",
      "source": [
        "df.head()"
      ],
      "metadata": {
        "colab": {
          "base_uri": "https://localhost:8080/",
          "height": 206
        },
        "id": "houoQuBRXcO-",
        "outputId": "ea10ca64-b0de-4345-fc0e-e5b83b5f766d"
      },
      "execution_count": 286,
      "outputs": [
        {
          "output_type": "execute_result",
          "data": {
            "text/plain": [
              "   flight_id    time  xyz[0]  xyz[1]  xyz[2]                        type  \\\n",
              "0         68  448868  -0.029  -0.008   0.075  vehicle_angular_velocity_0   \n",
              "1         68  449266   0.058   0.033   0.084  vehicle_angular_velocity_0   \n",
              "2         68  455871   0.061   0.259   0.120  vehicle_angular_velocity_0   \n",
              "3         68  471866   0.058   0.495   0.395  vehicle_angular_velocity_0   \n",
              "4         68  480266   0.169   0.030   0.159  vehicle_angular_velocity_0   \n",
              "\n",
              "      a     b    lat    lon   alt  \n",
              "0 3.469 0.288 40.139 32.544 0.113  \n",
              "1 1.780 0.562 40.139 32.544 0.113  \n",
              "2 0.234 4.270 40.140 32.544 0.114  \n",
              "3 0.117 8.554 40.140 32.547 0.114  \n",
              "4 5.694 0.176 40.139 32.549 0.114  "
            ],
            "text/html": [
              "\n",
              "  <div id=\"df-8e12938a-c5a3-4092-98aa-109f739398b4\">\n",
              "    <div class=\"colab-df-container\">\n",
              "      <div>\n",
              "<style scoped>\n",
              "    .dataframe tbody tr th:only-of-type {\n",
              "        vertical-align: middle;\n",
              "    }\n",
              "\n",
              "    .dataframe tbody tr th {\n",
              "        vertical-align: top;\n",
              "    }\n",
              "\n",
              "    .dataframe thead th {\n",
              "        text-align: right;\n",
              "    }\n",
              "</style>\n",
              "<table border=\"1\" class=\"dataframe\">\n",
              "  <thead>\n",
              "    <tr style=\"text-align: right;\">\n",
              "      <th></th>\n",
              "      <th>flight_id</th>\n",
              "      <th>time</th>\n",
              "      <th>xyz[0]</th>\n",
              "      <th>xyz[1]</th>\n",
              "      <th>xyz[2]</th>\n",
              "      <th>type</th>\n",
              "      <th>a</th>\n",
              "      <th>b</th>\n",
              "      <th>lat</th>\n",
              "      <th>lon</th>\n",
              "      <th>alt</th>\n",
              "    </tr>\n",
              "  </thead>\n",
              "  <tbody>\n",
              "    <tr>\n",
              "      <th>0</th>\n",
              "      <td>68</td>\n",
              "      <td>448868</td>\n",
              "      <td>-0.029</td>\n",
              "      <td>-0.008</td>\n",
              "      <td>0.075</td>\n",
              "      <td>vehicle_angular_velocity_0</td>\n",
              "      <td>3.469</td>\n",
              "      <td>0.288</td>\n",
              "      <td>40.139</td>\n",
              "      <td>32.544</td>\n",
              "      <td>0.113</td>\n",
              "    </tr>\n",
              "    <tr>\n",
              "      <th>1</th>\n",
              "      <td>68</td>\n",
              "      <td>449266</td>\n",
              "      <td>0.058</td>\n",
              "      <td>0.033</td>\n",
              "      <td>0.084</td>\n",
              "      <td>vehicle_angular_velocity_0</td>\n",
              "      <td>1.780</td>\n",
              "      <td>0.562</td>\n",
              "      <td>40.139</td>\n",
              "      <td>32.544</td>\n",
              "      <td>0.113</td>\n",
              "    </tr>\n",
              "    <tr>\n",
              "      <th>2</th>\n",
              "      <td>68</td>\n",
              "      <td>455871</td>\n",
              "      <td>0.061</td>\n",
              "      <td>0.259</td>\n",
              "      <td>0.120</td>\n",
              "      <td>vehicle_angular_velocity_0</td>\n",
              "      <td>0.234</td>\n",
              "      <td>4.270</td>\n",
              "      <td>40.140</td>\n",
              "      <td>32.544</td>\n",
              "      <td>0.114</td>\n",
              "    </tr>\n",
              "    <tr>\n",
              "      <th>3</th>\n",
              "      <td>68</td>\n",
              "      <td>471866</td>\n",
              "      <td>0.058</td>\n",
              "      <td>0.495</td>\n",
              "      <td>0.395</td>\n",
              "      <td>vehicle_angular_velocity_0</td>\n",
              "      <td>0.117</td>\n",
              "      <td>8.554</td>\n",
              "      <td>40.140</td>\n",
              "      <td>32.547</td>\n",
              "      <td>0.114</td>\n",
              "    </tr>\n",
              "    <tr>\n",
              "      <th>4</th>\n",
              "      <td>68</td>\n",
              "      <td>480266</td>\n",
              "      <td>0.169</td>\n",
              "      <td>0.030</td>\n",
              "      <td>0.159</td>\n",
              "      <td>vehicle_angular_velocity_0</td>\n",
              "      <td>5.694</td>\n",
              "      <td>0.176</td>\n",
              "      <td>40.139</td>\n",
              "      <td>32.549</td>\n",
              "      <td>0.114</td>\n",
              "    </tr>\n",
              "  </tbody>\n",
              "</table>\n",
              "</div>\n",
              "      <button class=\"colab-df-convert\" onclick=\"convertToInteractive('df-8e12938a-c5a3-4092-98aa-109f739398b4')\"\n",
              "              title=\"Convert this dataframe to an interactive table.\"\n",
              "              style=\"display:none;\">\n",
              "        \n",
              "  <svg xmlns=\"http://www.w3.org/2000/svg\" height=\"24px\"viewBox=\"0 0 24 24\"\n",
              "       width=\"24px\">\n",
              "    <path d=\"M0 0h24v24H0V0z\" fill=\"none\"/>\n",
              "    <path d=\"M18.56 5.44l.94 2.06.94-2.06 2.06-.94-2.06-.94-.94-2.06-.94 2.06-2.06.94zm-11 1L8.5 8.5l.94-2.06 2.06-.94-2.06-.94L8.5 2.5l-.94 2.06-2.06.94zm10 10l.94 2.06.94-2.06 2.06-.94-2.06-.94-.94-2.06-.94 2.06-2.06.94z\"/><path d=\"M17.41 7.96l-1.37-1.37c-.4-.4-.92-.59-1.43-.59-.52 0-1.04.2-1.43.59L10.3 9.45l-7.72 7.72c-.78.78-.78 2.05 0 2.83L4 21.41c.39.39.9.59 1.41.59.51 0 1.02-.2 1.41-.59l7.78-7.78 2.81-2.81c.8-.78.8-2.07 0-2.86zM5.41 20L4 18.59l7.72-7.72 1.47 1.35L5.41 20z\"/>\n",
              "  </svg>\n",
              "      </button>\n",
              "      \n",
              "  <style>\n",
              "    .colab-df-container {\n",
              "      display:flex;\n",
              "      flex-wrap:wrap;\n",
              "      gap: 12px;\n",
              "    }\n",
              "\n",
              "    .colab-df-convert {\n",
              "      background-color: #E8F0FE;\n",
              "      border: none;\n",
              "      border-radius: 50%;\n",
              "      cursor: pointer;\n",
              "      display: none;\n",
              "      fill: #1967D2;\n",
              "      height: 32px;\n",
              "      padding: 0 0 0 0;\n",
              "      width: 32px;\n",
              "    }\n",
              "\n",
              "    .colab-df-convert:hover {\n",
              "      background-color: #E2EBFA;\n",
              "      box-shadow: 0px 1px 2px rgba(60, 64, 67, 0.3), 0px 1px 3px 1px rgba(60, 64, 67, 0.15);\n",
              "      fill: #174EA6;\n",
              "    }\n",
              "\n",
              "    [theme=dark] .colab-df-convert {\n",
              "      background-color: #3B4455;\n",
              "      fill: #D2E3FC;\n",
              "    }\n",
              "\n",
              "    [theme=dark] .colab-df-convert:hover {\n",
              "      background-color: #434B5C;\n",
              "      box-shadow: 0px 1px 3px 1px rgba(0, 0, 0, 0.15);\n",
              "      filter: drop-shadow(0px 1px 2px rgba(0, 0, 0, 0.3));\n",
              "      fill: #FFFFFF;\n",
              "    }\n",
              "  </style>\n",
              "\n",
              "      <script>\n",
              "        const buttonEl =\n",
              "          document.querySelector('#df-8e12938a-c5a3-4092-98aa-109f739398b4 button.colab-df-convert');\n",
              "        buttonEl.style.display =\n",
              "          google.colab.kernel.accessAllowed ? 'block' : 'none';\n",
              "\n",
              "        async function convertToInteractive(key) {\n",
              "          const element = document.querySelector('#df-8e12938a-c5a3-4092-98aa-109f739398b4');\n",
              "          const dataTable =\n",
              "            await google.colab.kernel.invokeFunction('convertToInteractive',\n",
              "                                                     [key], {});\n",
              "          if (!dataTable) return;\n",
              "\n",
              "          const docLinkHtml = 'Like what you see? Visit the ' +\n",
              "            '<a target=\"_blank\" href=https://colab.research.google.com/notebooks/data_table.ipynb>data table notebook</a>'\n",
              "            + ' to learn more about interactive tables.';\n",
              "          element.innerHTML = '';\n",
              "          dataTable['output_type'] = 'display_data';\n",
              "          await google.colab.output.renderOutput(dataTable, element);\n",
              "          const docLink = document.createElement('div');\n",
              "          docLink.innerHTML = docLinkHtml;\n",
              "          element.appendChild(docLink);\n",
              "        }\n",
              "      </script>\n",
              "    </div>\n",
              "  </div>\n",
              "  "
            ]
          },
          "metadata": {},
          "execution_count": 286
        }
      ]
    },
    {
      "cell_type": "code",
      "source": [
        "check_df(df)"
      ],
      "metadata": {
        "colab": {
          "base_uri": "https://localhost:8080/"
        },
        "id": "lAWdFX5QXjko",
        "outputId": "15c6f8fc-81fc-4995-bcc9-585503e9ec25"
      },
      "execution_count": 287,
      "outputs": [
        {
          "output_type": "stream",
          "name": "stdout",
          "text": [
            "##################### Shape #####################\n",
            "(9, 11)\n",
            "##################### Types #####################\n",
            "flight_id      int64\n",
            "time           int64\n",
            "xyz[0]       float64\n",
            "xyz[1]       float64\n",
            "xyz[2]       float64\n",
            "type          object\n",
            "a            float64\n",
            "b            float64\n",
            "lat          float64\n",
            "lon          float64\n",
            "alt          float64\n",
            "dtype: object\n",
            "##################### Head #####################\n",
            "   flight_id    time  xyz[0]  xyz[1]  xyz[2]                        type  \\\n",
            "0         68  448868  -0.029  -0.008   0.075  vehicle_angular_velocity_0   \n",
            "1         68  449266   0.058   0.033   0.084  vehicle_angular_velocity_0   \n",
            "2         68  455871   0.061   0.259   0.120  vehicle_angular_velocity_0   \n",
            "3         68  471866   0.058   0.495   0.395  vehicle_angular_velocity_0   \n",
            "4         68  480266   0.169   0.030   0.159  vehicle_angular_velocity_0   \n",
            "\n",
            "      a     b    lat    lon   alt  \n",
            "0 3.469 0.288 40.139 32.544 0.113  \n",
            "1 1.780 0.562 40.139 32.544 0.113  \n",
            "2 0.234 4.270 40.140 32.544 0.114  \n",
            "3 0.117 8.554 40.140 32.547 0.114  \n",
            "4 5.694 0.176 40.139 32.549 0.114  \n",
            "##################### Tail #####################\n",
            "   flight_id    time  xyz[0]  xyz[1]  xyz[2]                        type  \\\n",
            "4         68  480266   0.169   0.030   0.159  vehicle_angular_velocity_0   \n",
            "5         68  487266   0.067   0.149  -0.088  vehicle_angular_velocity_0   \n",
            "6         68  499268  -0.115  -0.219   0.188  vehicle_angular_velocity_0   \n",
            "7         68  518268  -0.153  -0.280  -0.094  vehicle_angular_velocity_0   \n",
            "8         68  534866  -0.117  -0.163  -0.023  vehicle_angular_velocity_0   \n",
            "\n",
            "      a     b    lat    lon   alt  \n",
            "4 5.694 0.176 40.139 32.549 0.114  \n",
            "5 0.447 2.239 40.137 32.550 0.114  \n",
            "6 0.526 1.900 40.135 32.552 0.114  \n",
            "7 0.548 1.826 40.134 32.552 0.114  \n",
            "8 0.717 1.395 40.134 32.551 0.114  \n",
            "##################### NA #####################\n",
            "flight_id    0\n",
            "time         0\n",
            "xyz[0]       0\n",
            "xyz[1]       0\n",
            "xyz[2]       0\n",
            "type         0\n",
            "a            0\n",
            "b            0\n",
            "lat          0\n",
            "lon          0\n",
            "alt          0\n",
            "dtype: int64\n",
            "##################### Quantiles #####################\n",
            "               0.000      0.050      0.500      0.950      0.990      1.000\n",
            "flight_id     68.000     68.000     68.000     68.000     68.000     68.000\n",
            "time      448868.000 449027.200 480266.000 528226.800 533538.160 534866.000\n",
            "xyz[0]        -0.153     -0.139      0.058      0.128      0.161      0.169\n",
            "xyz[1]        -0.280     -0.256      0.030      0.401      0.476      0.495\n",
            "xyz[2]        -0.094     -0.092      0.084      0.312      0.378      0.395\n",
            "a              0.117      0.164      0.548      4.804      5.516      5.694\n",
            "b              0.176      0.221      1.826      6.840      8.211      8.554\n",
            "lat           40.134     40.134     40.139     40.140     40.140     40.140\n",
            "lon           32.544     32.544     32.549     32.552     32.552     32.552\n",
            "alt            0.113      0.113      0.114      0.114      0.114      0.114\n"
          ]
        }
      ]
    },
    {
      "cell_type": "markdown",
      "source": [
        "#PCA"
      ],
      "metadata": {
        "id": "UKKZoFxWB-L_"
      }
    },
    {
      "cell_type": "code",
      "source": [
        "numcols=[i for i in df.columns if df[i].dtypes != \"O\" and \"flight_id\" not in i]"
      ],
      "metadata": {
        "id": "Ba4Q9vGpAxcO"
      },
      "execution_count": 288,
      "outputs": []
    },
    {
      "cell_type": "code",
      "source": [
        "df=df[numcols]"
      ],
      "metadata": {
        "id": "M7FYchmuAxZh"
      },
      "execution_count": 289,
      "outputs": []
    },
    {
      "cell_type": "code",
      "source": [
        "df.isnull().sum()"
      ],
      "metadata": {
        "id": "JuGjOaZuAxW7",
        "colab": {
          "base_uri": "https://localhost:8080/"
        },
        "outputId": "2cbfa320-fc79-4828-c92e-1435718015d1"
      },
      "execution_count": 290,
      "outputs": [
        {
          "output_type": "execute_result",
          "data": {
            "text/plain": [
              "time      0\n",
              "xyz[0]    0\n",
              "xyz[1]    0\n",
              "xyz[2]    0\n",
              "a         0\n",
              "b         0\n",
              "lat       0\n",
              "lon       0\n",
              "alt       0\n",
              "dtype: int64"
            ]
          },
          "metadata": {},
          "execution_count": 290
        }
      ]
    },
    {
      "cell_type": "code",
      "source": [
        "df = StandardScaler().fit_transform(df)"
      ],
      "metadata": {
        "id": "USCGi1K7AxRc"
      },
      "execution_count": 291,
      "outputs": []
    },
    {
      "cell_type": "code",
      "source": [
        "pca = PCA()"
      ],
      "metadata": {
        "id": "s6jVvt9SCLF-"
      },
      "execution_count": 292,
      "outputs": []
    },
    {
      "cell_type": "code",
      "source": [
        "pca_fit = pca.fit_transform(df)"
      ],
      "metadata": {
        "id": "AI2wNZR8CLC1"
      },
      "execution_count": 293,
      "outputs": []
    },
    {
      "cell_type": "code",
      "source": [
        "pca.explained_variance_ratio_"
      ],
      "metadata": {
        "colab": {
          "base_uri": "https://localhost:8080/"
        },
        "id": "Otz6kIz3CK_k",
        "outputId": "fe6c680a-5496-401e-d6aa-05ded88c0649"
      },
      "execution_count": 294,
      "outputs": [
        {
          "output_type": "execute_result",
          "data": {
            "text/plain": [
              "array([5.16787853e-01, 2.75645653e-01, 1.16137653e-01, 5.86507509e-02,\n",
              "       1.51412965e-02, 9.93790986e-03, 6.32837009e-03, 1.37051449e-03,\n",
              "       1.33655273e-33])"
            ]
          },
          "metadata": {},
          "execution_count": 294
        }
      ]
    },
    {
      "cell_type": "code",
      "source": [
        "np.cumsum(pca.explained_variance_ratio_)"
      ],
      "metadata": {
        "colab": {
          "base_uri": "https://localhost:8080/"
        },
        "id": "ggawstVWCK6c",
        "outputId": "955073cd-5061-46d7-cb60-dabd3b838309"
      },
      "execution_count": 295,
      "outputs": [
        {
          "output_type": "execute_result",
          "data": {
            "text/plain": [
              "array([0.51678785, 0.79243351, 0.90857116, 0.96722191, 0.98236321,\n",
              "       0.99230112, 0.99862949, 1.        , 1.        ])"
            ]
          },
          "metadata": {},
          "execution_count": 295
        }
      ]
    },
    {
      "cell_type": "markdown",
      "source": [
        "# OPTIMUM BILESEN SAYISI"
      ],
      "metadata": {
        "id": "bdhpTEgCCS8C"
      }
    },
    {
      "cell_type": "code",
      "source": [
        "pca = PCA().fit(df)\n",
        "plt.plot(np.cumsum(pca.explained_variance_ratio_))\n",
        "plt.xlabel(\"Bileşen Sayısını\")\n",
        "plt.ylabel(\"Kümülatif Varyans Oranı\")\n",
        "plt.show(block=True)"
      ],
      "metadata": {
        "colab": {
          "base_uri": "https://localhost:8080/",
          "height": 361
        },
        "id": "OWdpxpWICXtm",
        "outputId": "a1ba93c4-e463-4da5-f8e3-be0a0ca828c6"
      },
      "execution_count": 296,
      "outputs": [
        {
          "output_type": "display_data",
          "data": {
            "text/plain": [
              "<Figure size 576x396 with 1 Axes>"
            ],
            "image/png": "[encoded data removed]"
          },
          "metadata": {}
        }
      ]
    },
    {
      "cell_type": "markdown",
      "source": [
        "#FINAL PCA"
      ],
      "metadata": {
        "id": "YPXrJs4cCaEj"
      }
    },
    {
      "cell_type": "code",
      "source": [
        "pca = PCA(n_components=3)"
      ],
      "metadata": {
        "id": "8lrHa_VFCXqi"
      },
      "execution_count": 297,
      "outputs": []
    },
    {
      "cell_type": "code",
      "source": [
        "pca_fit = pca.fit_transform(df)"
      ],
      "metadata": {
        "id": "MyJ7wgtXDElt"
      },
      "execution_count": 298,
      "outputs": []
    },
    {
      "cell_type": "code",
      "source": [
        "pca.explained_variance_ratio_"
      ],
      "metadata": {
        "colab": {
          "base_uri": "https://localhost:8080/"
        },
        "id": "5d2FAltEC7Di",
        "outputId": "64449e01-a82e-400c-b87a-a7478e1e6aa5"
      },
      "execution_count": 299,
      "outputs": [
        {
          "output_type": "execute_result",
          "data": {
            "text/plain": [
              "array([0.51678785, 0.27564565, 0.11613765])"
            ]
          },
          "metadata": {},
          "execution_count": 299
        }
      ]
    },
    {
      "cell_type": "code",
      "source": [
        "np.cumsum(pca.explained_variance_ratio_)"
      ],
      "metadata": {
        "colab": {
          "base_uri": "https://localhost:8080/"
        },
        "id": "vu13WJ8TC7Ab",
        "outputId": "58e64b95-7ede-4455-9fbb-2dabcae217f3"
      },
      "execution_count": 300,
      "outputs": [
        {
          "output_type": "execute_result",
          "data": {
            "text/plain": [
              "array([0.51678785, 0.79243351, 0.90857116])"
            ]
          },
          "metadata": {},
          "execution_count": 300
        }
      ]
    },
    {
      "cell_type": "markdown",
      "source": [
        "DASHBOARD"
      ],
      "metadata": {
        "id": "3MWFGzdefdxX"
      }
    },
    {
      "cell_type": "code",
      "source": [
        "df = pd.merge(df_ang_vel,df_gps,on=[\"time\",\"flight_id\"],how='inner')"
      ],
      "metadata": {
        "id": "vnXZ3NvnsVej"
      },
      "execution_count": 301,
      "outputs": []
    },
    {
      "cell_type": "code",
      "source": [
        "df.head()"
      ],
      "metadata": {
        "colab": {
          "base_uri": "https://localhost:8080/",
          "height": 206
        },
        "id": "PatvsCzAsauL",
        "outputId": "c07368a3-8550-40ab-c0a5-af97e626e24d"
      },
      "execution_count": 302,
      "outputs": [
        {
          "output_type": "execute_result",
          "data": {
            "text/plain": [
              "   flight_id    time  xyz[0]  xyz[1]  xyz[2]                        type  \\\n",
              "0         68  448868  -0.029  -0.008   0.075  vehicle_angular_velocity_0   \n",
              "1         68  449266   0.058   0.033   0.084  vehicle_angular_velocity_0   \n",
              "2         68  455871   0.061   0.259   0.120  vehicle_angular_velocity_0   \n",
              "3         68  471866   0.058   0.495   0.395  vehicle_angular_velocity_0   \n",
              "4         68  480266   0.169   0.030   0.159  vehicle_angular_velocity_0   \n",
              "\n",
              "      a     b    lat    lon   alt  \n",
              "0 3.469 0.288 40.139 32.544 0.113  \n",
              "1 1.780 0.562 40.139 32.544 0.113  \n",
              "2 0.234 4.270 40.140 32.544 0.114  \n",
              "3 0.117 8.554 40.140 32.547 0.114  \n",
              "4 5.694 0.176 40.139 32.549 0.114  "
            ],
            "text/html": [
              "\n",
              "  <div id=\"df-e45da879-8593-483c-bf4f-fb836aeb5304\">\n",
              "    <div class=\"colab-df-container\">\n",
              "      <div>\n",
              "<style scoped>\n",
              "    .dataframe tbody tr th:only-of-type {\n",
              "        vertical-align: middle;\n",
              "    }\n",
              "\n",
              "    .dataframe tbody tr th {\n",
              "        vertical-align: top;\n",
              "    }\n",
              "\n",
              "    .dataframe thead th {\n",
              "        text-align: right;\n",
              "    }\n",
              "</style>\n",
              "<table border=\"1\" class=\"dataframe\">\n",
              "  <thead>\n",
              "    <tr style=\"text-align: right;\">\n",
              "      <th></th>\n",
              "      <th>flight_id</th>\n",
              "      <th>time</th>\n",
              "      <th>xyz[0]</th>\n",
              "      <th>xyz[1]</th>\n",
              "      <th>xyz[2]</th>\n",
              "      <th>type</th>\n",
              "      <th>a</th>\n",
              "      <th>b</th>\n",
              "      <th>lat</th>\n",
              "      <th>lon</th>\n",
              "      <th>alt</th>\n",
              "    </tr>\n",
              "  </thead>\n",
              "  <tbody>\n",
              "    <tr>\n",
              "      <th>0</th>\n",
              "      <td>68</td>\n",
              "      <td>448868</td>\n",
              "      <td>-0.029</td>\n",
              "      <td>-0.008</td>\n",
              "      <td>0.075</td>\n",
              "      <td>vehicle_angular_velocity_0</td>\n",
              "      <td>3.469</td>\n",
              "      <td>0.288</td>\n",
              "      <td>40.139</td>\n",
              "      <td>32.544</td>\n",
              "      <td>0.113</td>\n",
              "    </tr>\n",
              "    <tr>\n",
              "      <th>1</th>\n",
              "      <td>68</td>\n",
              "      <td>449266</td>\n",
              "      <td>0.058</td>\n",
              "      <td>0.033</td>\n",
              "      <td>0.084</td>\n",
              "      <td>vehicle_angular_velocity_0</td>\n",
              "      <td>1.780</td>\n",
              "      <td>0.562</td>\n",
              "      <td>40.139</td>\n",
              "      <td>32.544</td>\n",
              "      <td>0.113</td>\n",
              "    </tr>\n",
              "    <tr>\n",
              "      <th>2</th>\n",
              "      <td>68</td>\n",
              "      <td>455871</td>\n",
              "      <td>0.061</td>\n",
              "      <td>0.259</td>\n",
              "      <td>0.120</td>\n",
              "      <td>vehicle_angular_velocity_0</td>\n",
              "      <td>0.234</td>\n",
              "      <td>4.270</td>\n",
              "      <td>40.140</td>\n",
              "      <td>32.544</td>\n",
              "      <td>0.114</td>\n",
              "    </tr>\n",
              "    <tr>\n",
              "      <th>3</th>\n",
              "      <td>68</td>\n",
              "      <td>471866</td>\n",
              "      <td>0.058</td>\n",
              "      <td>0.495</td>\n",
              "      <td>0.395</td>\n",
              "      <td>vehicle_angular_velocity_0</td>\n",
              "      <td>0.117</td>\n",
              "      <td>8.554</td>\n",
              "      <td>40.140</td>\n",
              "      <td>32.547</td>\n",
              "      <td>0.114</td>\n",
              "    </tr>\n",
              "    <tr>\n",
              "      <th>4</th>\n",
              "      <td>68</td>\n",
              "      <td>480266</td>\n",
              "      <td>0.169</td>\n",
              "      <td>0.030</td>\n",
              "      <td>0.159</td>\n",
              "      <td>vehicle_angular_velocity_0</td>\n",
              "      <td>5.694</td>\n",
              "      <td>0.176</td>\n",
              "      <td>40.139</td>\n",
              "      <td>32.549</td>\n",
              "      <td>0.114</td>\n",
              "    </tr>\n",
              "  </tbody>\n",
              "</table>\n",
              "</div>\n",
              "      <button class=\"colab-df-convert\" onclick=\"convertToInteractive('df-e45da879-8593-483c-bf4f-fb836aeb5304')\"\n",
              "              title=\"Convert this dataframe to an interactive table.\"\n",
              "              style=\"display:none;\">\n",
              "        \n",
              "  <svg xmlns=\"http://www.w3.org/2000/svg\" height=\"24px\"viewBox=\"0 0 24 24\"\n",
              "       width=\"24px\">\n",
              "    <path d=\"M0 0h24v24H0V0z\" fill=\"none\"/>\n",
              "    <path d=\"M18.56 5.44l.94 2.06.94-2.06 2.06-.94-2.06-.94-.94-2.06-.94 2.06-2.06.94zm-11 1L8.5 8.5l.94-2.06 2.06-.94-2.06-.94L8.5 2.5l-.94 2.06-2.06.94zm10 10l.94 2.06.94-2.06 2.06-.94-2.06-.94-.94-2.06-.94 2.06-2.06.94z\"/><path d=\"M17.41 7.96l-1.37-1.37c-.4-.4-.92-.59-1.43-.59-.52 0-1.04.2-1.43.59L10.3 9.45l-7.72 7.72c-.78.78-.78 2.05 0 2.83L4 21.41c.39.39.9.59 1.41.59.51 0 1.02-.2 1.41-.59l7.78-7.78 2.81-2.81c.8-.78.8-2.07 0-2.86zM5.41 20L4 18.59l7.72-7.72 1.47 1.35L5.41 20z\"/>\n",
              "  </svg>\n",
              "      </button>\n",
              "      \n",
              "  <style>\n",
              "    .colab-df-container {\n",
              "      display:flex;\n",
              "      flex-wrap:wrap;\n",
              "      gap: 12px;\n",
              "    }\n",
              "\n",
              "    .colab-df-convert {\n",
              "      background-color: #E8F0FE;\n",
              "      border: none;\n",
              "      border-radius: 50%;\n",
              "      cursor: pointer;\n",
              "      display: none;\n",
              "      fill: #1967D2;\n",
              "      height: 32px;\n",
              "      padding: 0 0 0 0;\n",
              "      width: 32px;\n",
              "    }\n",
              "\n",
              "    .colab-df-convert:hover {\n",
              "      background-color: #E2EBFA;\n",
              "      box-shadow: 0px 1px 2px rgba(60, 64, 67, 0.3), 0px 1px 3px 1px rgba(60, 64, 67, 0.15);\n",
              "      fill: #174EA6;\n",
              "    }\n",
              "\n",
              "    [theme=dark] .colab-df-convert {\n",
              "      background-color: #3B4455;\n",
              "      fill: #D2E3FC;\n",
              "    }\n",
              "\n",
              "    [theme=dark] .colab-df-convert:hover {\n",
              "      background-color: #434B5C;\n",
              "      box-shadow: 0px 1px 3px 1px rgba(0, 0, 0, 0.15);\n",
              "      filter: drop-shadow(0px 1px 2px rgba(0, 0, 0, 0.3));\n",
              "      fill: #FFFFFF;\n",
              "    }\n",
              "  </style>\n",
              "\n",
              "      <script>\n",
              "        const buttonEl =\n",
              "          document.querySelector('#df-e45da879-8593-483c-bf4f-fb836aeb5304 button.colab-df-convert');\n",
              "        buttonEl.style.display =\n",
              "          google.colab.kernel.accessAllowed ? 'block' : 'none';\n",
              "\n",
              "        async function convertToInteractive(key) {\n",
              "          const element = document.querySelector('#df-e45da879-8593-483c-bf4f-fb836aeb5304');\n",
              "          const dataTable =\n",
              "            await google.colab.kernel.invokeFunction('convertToInteractive',\n",
              "                                                     [key], {});\n",
              "          if (!dataTable) return;\n",
              "\n",
              "          const docLinkHtml = 'Like what you see? Visit the ' +\n",
              "            '<a target=\"_blank\" href=https://colab.research.google.com/notebooks/data_table.ipynb>data table notebook</a>'\n",
              "            + ' to learn more about interactive tables.';\n",
              "          element.innerHTML = '';\n",
              "          dataTable['output_type'] = 'display_data';\n",
              "          await google.colab.output.renderOutput(dataTable, element);\n",
              "          const docLink = document.createElement('div');\n",
              "          docLink.innerHTML = docLinkHtml;\n",
              "          element.appendChild(docLink);\n",
              "        }\n",
              "      </script>\n",
              "    </div>\n",
              "  </div>\n",
              "  "
            ]
          },
          "metadata": {},
          "execution_count": 302
        }
      ]
    },
    {
      "cell_type": "code",
      "source": [
        "pip install streamlit"
      ],
      "metadata": {
        "id": "RkuAft1wmcAB",
        "colab": {
          "base_uri": "https://localhost:8080/"
        },
        "outputId": "043e1c38-c184-4bd4-eb18-aeb50d2e2b72"
      },
      "execution_count": 303,
      "outputs": [
        {
          "output_type": "stream",
          "name": "stdout",
          "text": [
            "Looking in indexes: https://pypi.org/simple, https://us-python.pkg.dev/colab-wheels/public/simple/\n",
            "Requirement already satisfied: streamlit in /usr/local/lib/python3.7/dist-packages (1.13.0)\n",
            "Requirement already satisfied: pillow>=6.2.0 in /usr/local/lib/python3.7/dist-packages (from streamlit) (7.1.2)\n",
            "Requirement already satisfied: python-dateutil in /usr/local/lib/python3.7/dist-packages (from streamlit) (2.8.2)\n",
            "Requirement already satisfied: click>=7.0 in /usr/local/lib/python3.7/dist-packages (from streamlit) (7.1.2)\n",
            "Requirement already satisfied: packaging>=14.1 in /usr/local/lib/python3.7/dist-packages (from streamlit) (21.3)\n",
            "Requirement already satisfied: cachetools>=4.0 in /usr/local/lib/python3.7/dist-packages (from streamlit) (4.2.4)\n",
            "Requirement already satisfied: semver in /usr/local/lib/python3.7/dist-packages (from streamlit) (2.13.0)\n",
            "Requirement already satisfied: rich>=10.11.0 in /usr/local/lib/python3.7/dist-packages (from streamlit) (12.6.0)\n",
            "Requirement already satisfied: importlib-metadata>=1.4 in /usr/local/lib/python3.7/dist-packages (from streamlit) (5.0.0)\n",
            "Requirement already satisfied: pympler>=0.9 in /usr/local/lib/python3.7/dist-packages (from streamlit) (1.0.1)\n",
            "Requirement already satisfied: altair>=3.2.0 in /usr/local/lib/python3.7/dist-packages (from streamlit) (4.2.0)\n",
            "Requirement already satisfied: tzlocal>=1.1 in /usr/local/lib/python3.7/dist-packages (from streamlit) (1.5.1)\n",
            "Requirement already satisfied: watchdog in /usr/local/lib/python3.7/dist-packages (from streamlit) (2.1.9)\n",
            "Requirement already satisfied: gitpython!=3.1.19 in /usr/local/lib/python3.7/dist-packages (from streamlit) (3.1.29)\n",
            "Requirement already satisfied: pandas>=0.21.0 in /usr/local/lib/python3.7/dist-packages (from streamlit) (1.3.5)\n",
            "Requirement already satisfied: protobuf!=3.20.2,<4,>=3.12 in /usr/local/lib/python3.7/dist-packages (from streamlit) (3.17.3)\n",
            "Requirement already satisfied: toml in /usr/local/lib/python3.7/dist-packages (from streamlit) (0.10.2)\n",
            "Requirement already satisfied: pydeck>=0.1.dev5 in /usr/local/lib/python3.7/dist-packages (from streamlit) (0.8.0b3)\n",
            "Requirement already satisfied: pyarrow>=4.0 in /usr/local/lib/python3.7/dist-packages (from streamlit) (6.0.1)\n",
            "Requirement already satisfied: blinker>=1.0.0 in /usr/local/lib/python3.7/dist-packages (from streamlit) (1.5)\n",
            "Requirement already satisfied: numpy in /usr/local/lib/python3.7/dist-packages (from streamlit) (1.21.6)\n",
            "Requirement already satisfied: typing-extensions>=3.10.0.0 in /usr/local/lib/python3.7/dist-packages (from streamlit) (4.1.1)\n",
            "Requirement already satisfied: requests>=2.4 in /usr/local/lib/python3.7/dist-packages (from streamlit) (2.23.0)\n",
            "Requirement already satisfied: tornado>=5.0 in /usr/local/lib/python3.7/dist-packages (from streamlit) (5.1.1)\n",
            "Requirement already satisfied: validators>=0.2 in /usr/local/lib/python3.7/dist-packages (from streamlit) (0.20.0)\n",
            "Requirement already satisfied: jinja2 in /usr/local/lib/python3.7/dist-packages (from altair>=3.2.0->streamlit) (2.11.3)\n",
            "Requirement already satisfied: toolz in /usr/local/lib/python3.7/dist-packages (from altair>=3.2.0->streamlit) (0.12.0)\n",
            "Requirement already satisfied: entrypoints in /usr/local/lib/python3.7/dist-packages (from altair>=3.2.0->streamlit) (0.4)\n",
            "Requirement already satisfied: jsonschema>=3.0 in /usr/local/lib/python3.7/dist-packages (from altair>=3.2.0->streamlit) (4.3.3)\n",
            "Requirement already satisfied: gitdb<5,>=4.0.1 in /usr/local/lib/python3.7/dist-packages (from gitpython!=3.1.19->streamlit) (4.0.9)\n",
            "Requirement already satisfied: smmap<6,>=3.0.1 in /usr/local/lib/python3.7/dist-packages (from gitdb<5,>=4.0.1->gitpython!=3.1.19->streamlit) (5.0.0)\n",
            "Requirement already satisfied: zipp>=0.5 in /usr/local/lib/python3.7/dist-packages (from importlib-metadata>=1.4->streamlit) (3.8.1)\n",
            "Requirement already satisfied: attrs>=17.4.0 in /usr/local/lib/python3.7/dist-packages (from jsonschema>=3.0->altair>=3.2.0->streamlit) (22.1.0)\n",
            "Requirement already satisfied: importlib-resources>=1.4.0 in /usr/local/lib/python3.7/dist-packages (from jsonschema>=3.0->altair>=3.2.0->streamlit) (5.9.0)\n",
            "Requirement already satisfied: pyrsistent!=0.17.0,!=0.17.1,!=0.17.2,>=0.14.0 in /usr/local/lib/python3.7/dist-packages (from jsonschema>=3.0->altair>=3.2.0->streamlit) (0.18.1)\n",
            "Requirement already satisfied: pyparsing!=3.0.5,>=2.0.2 in /usr/local/lib/python3.7/dist-packages (from packaging>=14.1->streamlit) (3.0.9)\n",
            "Requirement already satisfied: pytz>=2017.3 in /usr/local/lib/python3.7/dist-packages (from pandas>=0.21.0->streamlit) (2022.4)\n",
            "Requirement already satisfied: six>=1.9 in /usr/local/lib/python3.7/dist-packages (from protobuf!=3.20.2,<4,>=3.12->streamlit) (1.15.0)\n",
            "Requirement already satisfied: MarkupSafe>=0.23 in /usr/local/lib/python3.7/dist-packages (from jinja2->altair>=3.2.0->streamlit) (2.0.1)\n",
            "Requirement already satisfied: chardet<4,>=3.0.2 in /usr/local/lib/python3.7/dist-packages (from requests>=2.4->streamlit) (3.0.4)\n",
            "Requirement already satisfied: certifi>=2017.4.17 in /usr/local/lib/python3.7/dist-packages (from requests>=2.4->streamlit) (2022.9.24)\n",
            "Requirement already satisfied: urllib3!=1.25.0,!=1.25.1,<1.26,>=1.21.1 in /usr/local/lib/python3.7/dist-packages (from requests>=2.4->streamlit) (1.24.3)\n",
            "Requirement already satisfied: idna<3,>=2.5 in /usr/local/lib/python3.7/dist-packages (from requests>=2.4->streamlit) (2.10)\n",
            "Requirement already satisfied: commonmark<0.10.0,>=0.9.0 in /usr/local/lib/python3.7/dist-packages (from rich>=10.11.0->streamlit) (0.9.1)\n",
            "Requirement already satisfied: pygments<3.0.0,>=2.6.0 in /usr/local/lib/python3.7/dist-packages (from rich>=10.11.0->streamlit) (2.6.1)\n",
            "Requirement already satisfied: decorator>=3.4.0 in /usr/local/lib/python3.7/dist-packages (from validators>=0.2->streamlit) (4.4.2)\n"
          ]
        }
      ]
    },
    {
      "cell_type": "code",
      "source": [
        "import time  # to simulate a real time data, time loop\n",
        "\n",
        "import numpy as np  # np mean, np random\n",
        "import pandas as pd  # read csv, df manipulation\n",
        "import plotly.express as px  # interactive charts\n",
        "import streamlit as st  # data web app development"
      ],
      "metadata": {
        "id": "D5kndMHchNJF"
      },
      "execution_count": 304,
      "outputs": []
    },
    {
      "cell_type": "code",
      "source": [
        "st.set_page_config(\n",
        "    page_title=\"Data Science Dashboard\",\n",
        "    page_icon=\"✅\",\n",
        "    layout=\"wide\")"
      ],
      "metadata": {
        "id": "-4tm4wf8hNGO"
      },
      "execution_count": 305,
      "outputs": []
    },
    {
      "cell_type": "markdown",
      "source": [
        "dashboard title"
      ],
      "metadata": {
        "id": "Cj21Se6WNLvA"
      }
    },
    {
      "cell_type": "code",
      "source": [
        "st.title(\"Data Science Dashboard\")"
      ],
      "metadata": {
        "colab": {
          "base_uri": "https://localhost:8080/"
        },
        "id": "JEVpYNHVhNDX",
        "outputId": "ba7d970a-dad0-4a01-9b25-54aad003d9eb"
      },
      "execution_count": 306,
      "outputs": [
        {
          "output_type": "execute_result",
          "data": {
            "text/plain": [
              "DeltaGenerator(_root_container=0, _provided_cursor=None, _parent=None, _block_type=None, _form_data=None)"
            ]
          },
          "metadata": {},
          "execution_count": 306
        }
      ]
    },
    {
      "cell_type": "markdown",
      "source": [
        "top-level filters"
      ],
      "metadata": {
        "id": "dujl8im3NTDZ"
      }
    },
    {
      "cell_type": "code",
      "source": [
        "flight_filter = st.selectbox(\"Select the Flight\", pd.unique(df[\"flight_id\"]))"
      ],
      "metadata": {
        "id": "lZiU__benTnW"
      },
      "execution_count": 307,
      "outputs": []
    },
    {
      "cell_type": "markdown",
      "source": [
        "dataframe filter"
      ],
      "metadata": {
        "id": "CF-2R05NNWbY"
      }
    },
    {
      "cell_type": "code",
      "source": [
        "df = df[df[\"flight_id\"] == flight_filter]"
      ],
      "metadata": {
        "id": "umxn_4NrnvFl"
      },
      "execution_count": 308,
      "outputs": []
    },
    {
      "cell_type": "markdown",
      "source": [
        "create two columns for charts"
      ],
      "metadata": {
        "id": "NLzEWEBlNaL3"
      }
    },
    {
      "cell_type": "code",
      "source": [
        "fig_col1,fig_col2 = st.columns(2)\n",
        "\n",
        "with fig_col1:\n",
        "    st.markdown(\"### First Chart\")\n",
        "    fig = px.density_heatmap(\n",
        "        data_frame=df, y=\"flight_id\", x=\"time\"\n",
        "    )\n",
        "    st.write(fig)\n",
        "\n",
        "with fig_col2:\n",
        "    st.markdown(\"### Second Chart\")\n",
        "    fig2 = px.scatter_3d(df, x='lat', y='lon', z='alt',\n",
        "              color='flight_id')\n",
        "    st.write(fig2)"
      ],
      "metadata": {
        "id": "JjzcYFuSCMUe"
      },
      "execution_count": 309,
      "outputs": []
    },
    {
      "cell_type": "code",
      "source": [
        "st.markdown(\"### Detailed Data View\")\n",
        "st.dataframe(df)"
      ],
      "metadata": {
        "colab": {
          "base_uri": "https://localhost:8080/"
        },
        "id": "Au5rYBLTBUsC",
        "outputId": "f209ffec-fd1b-4981-eb8e-972a5d683c7d"
      },
      "execution_count": 310,
      "outputs": [
        {
          "output_type": "execute_result",
          "data": {
            "text/plain": [
              "DeltaGenerator(_root_container=0, _provided_cursor=None, _parent=None, _block_type=None, _form_data=None)"
            ]
          },
          "metadata": {},
          "execution_count": 310
        }
      ]
    },
    {
      "cell_type": "code",
      "source": [
        "placeholder = st.empty()"
      ],
      "metadata": {
        "id": "p3KNsDRtQ5d1"
      },
      "execution_count": 311,
      "outputs": []
    },
    {
      "cell_type": "code",
      "source": [
        "# near real-time / live feed simulation\n",
        "for seconds in range(200):\n",
        "\n",
        "    df[\"flight_id_new\"] = df[\"flight_id\"] * np.random.choice(range(1, 5))\n",
        "    df[\"time_new\"] = df[\"time\"] * np.random.choice(range(1, 5))\n",
        "\n",
        "\n",
        "    with placeholder.container():\n",
        "\n",
        "\n",
        "        # create two columns for charts\n",
        "        fig_col1,fig_col2 = st.columns(2)\n",
        "\n",
        "\n",
        "    with fig_col1:\n",
        "        st.markdown(\"### First Chart\")\n",
        "        fig = px.density_heatmap(\n",
        "            data_frame=df, y=\"flight_id\", x=\"time\"\n",
        "        )\n",
        "        st.write(fig)\n",
        "\n",
        "    with fig_col2:\n",
        "        st.markdown(\"### Second Chart\")\n",
        "        fig2 = px.scatter_3d(df, x='lat', y='lon', z='alt',\n",
        "              color='flight_id')\n",
        "        st.write(fig2)\n",
        "\n",
        "        st.markdown(\"### Detailed Data View\")\n",
        "        st.dataframe(df)\n",
        "        time.sleep(1)"
      ],
      "metadata": {
        "id": "FK1bvVA5Pu1e"
      },
      "execution_count": 256,
      "outputs": []
    }
  ]
}